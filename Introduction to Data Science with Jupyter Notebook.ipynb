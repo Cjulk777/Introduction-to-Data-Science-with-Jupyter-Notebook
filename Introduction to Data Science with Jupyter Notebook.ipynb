{
 "cells": [
  {
   "cell_type": "markdown",
   "id": "d9c0bbae-3cdc-44b6-9cb0-31e585687b31",
   "metadata": {},
   "source": [
    "# Introduction\n",
    "\n",
    "Welcome to my final project for the data science course! In this project, I will be showcasing my knowledge and skills acquired throughout the course using Jupyterlite Notebook. This notebook serves as a platform to demonstrate various data science concepts and techniques.\n",
    "\n",
    "Throughout this project, you can expect to find an overview of data science languages, libraries, and tools. I will provide examples of arithmetic expressions and demonstrate how to perform basic operations using code cells.\n",
    "\n",
    "\n"
   ]
  },
  {
   "cell_type": "markdown",
   "id": "41fce3b2-55ab-4049-9b18-9c0ab3e0d849",
   "metadata": {},
   "source": [
    "# Introduction to Data Science with Jupyter Notebook\n"
   ]
  },
  {
   "cell_type": "markdown",
   "id": "ac24e7da-65aa-4511-b91a-96d68e2bb9f0",
   "metadata": {},
   "source": [
    "# Data Science Languages\n",
    "\n",
    "- Python\n",
    "- R\n",
    "- SQL\n"
   ]
  },
  {
   "cell_type": "markdown",
   "id": "cf2a8cc7-9567-4db4-8e1c-0a82b5ae2994",
   "metadata": {},
   "source": [
    "# Data Science Libraries\n",
    "\n",
    "- Pandas\n",
    "- NumPy\n",
    "- Matplotlib\n"
   ]
  },
  {
   "cell_type": "markdown",
   "id": "c193554b-a954-4ee7-a45f-fbbb008d9675",
   "metadata": {},
   "source": [
    "# Data Science Tools\n",
    "\n",
    "| Tool       | Description                                    |\n",
    "|------------|------------------------------------------------|\n",
    "| Jupyter    | Interactive computing environment              |\n",
    "| TensorFlow | Open-source machine learning framework         |\n",
    "| scikit-learn | Machine learning library for Python           |\n",
    "| Spark      | Distributed computing framework                |\n",
    "| Tableau    | Data visualization software                    |\n",
    "| SQL        | Database query language                        |\n"
   ]
  },
  {
   "cell_type": "markdown",
   "id": "8f1a54b5-e4db-4648-a7e3-81468917eb97",
   "metadata": {},
   "source": [
    "# Arithmetic Expression Examples\n",
    "\n",
    "In this section, we'll explore some examples of arithmetic expressions using code cells. These examples will demonstrate basic arithmetic operations such as addition, subtraction, multiplication, and division. We'll also showcase how to use variables in expressions and explore the order of operations.\n"
   ]
  },
  {
   "cell_type": "code",
   "execution_count": 1,
   "id": "f36f5a52-cb8e-463d-a7c0-6fb6f4845ab1",
   "metadata": {},
   "outputs": [
    {
     "name": "stdout",
     "output_type": "stream",
     "text": [
      "Multiplication result: 8\n",
      "Addition result: 6\n"
     ]
    }
   ],
   "source": [
    "# Multiply and add numbers\n",
    "num1 = 2\n",
    "num2 = 4\n",
    "\n",
    "# Multiplication\n",
    "result_multiply = num1 * num2\n",
    "print(\"Multiplication result:\", result_multiply)\n",
    "\n",
    "# Addition\n",
    "result_addition = num1 + num2\n",
    "print(\"Addition result:\", result_addition)\n"
   ]
  },
  {
   "cell_type": "code",
   "execution_count": 2,
   "id": "a53a4446-5210-41ef-815e-8eae231b7322",
   "metadata": {},
   "outputs": [
    {
     "data": {
      "text/plain": [
       "(50, 15)"
      ]
     },
     "execution_count": 2,
     "metadata": {},
     "output_type": "execute_result"
    }
   ],
   "source": [
    "# Multiply and add numbers\n",
    "num1 = 5\n",
    "num2 = 10\n",
    "\n",
    "# Multiplication\n",
    "result_multiply = num1 * num2\n",
    "\n",
    "# Addition\n",
    "result_addition = num1 + num2\n",
    "\n",
    "result_multiply, result_addition\n"
   ]
  },
  {
   "cell_type": "code",
   "execution_count": 3,
   "id": "5c1e2f13-e0e0-4bbf-bbac-4b87372f9df9",
   "metadata": {},
   "outputs": [
    {
     "data": {
      "text/plain": [
       "2.0"
      ]
     },
     "execution_count": 3,
     "metadata": {},
     "output_type": "execute_result"
    }
   ],
   "source": [
    "# Convert minutes to hours\n",
    "minutes = 120\n",
    "hours = minutes / 60\n",
    "\n",
    "hours\n"
   ]
  },
  {
   "cell_type": "markdown",
   "id": "0b73dd57-b5ef-490a-b4ff-27917e00eaf4",
   "metadata": {},
   "source": [
    "# Objectives\n",
    "\n",
    "The objectives of this project are as follows:\n",
    "\n",
    "1. Demonstrate proficiency in using Jupyterlite Notebook for data science projects.\n",
    "2. Showcase knowledge of data science languages, libraries, and tools.\n",
    "3. Provide examples of arithmetic expressions and code cells.\n",
    "4. Create a publicly shareable notebook on GitHub to showcase the final project.\n"
   ]
  },
  {
   "cell_type": "markdown",
   "id": "8ad71a69-bee5-45ce-b4ea-d0a1384d0e22",
   "metadata": {},
   "source": [
    "# Author\n",
    "Carlos Toro\n"
   ]
  },
  {
   "cell_type": "code",
   "execution_count": null,
   "id": "b55afe3f-bb48-4560-9fdc-2ce1ac33cc57",
   "metadata": {},
   "outputs": [],
   "source": []
  }
 ],
 "metadata": {
  "kernelspec": {
   "display_name": "Python 3 (ipykernel)",
   "language": "python",
   "name": "python3"
  },
  "language_info": {
   "codemirror_mode": {
    "name": "ipython",
    "version": 3
   },
   "file_extension": ".py",
   "mimetype": "text/x-python",
   "name": "python",
   "nbconvert_exporter": "python",
   "pygments_lexer": "ipython3",
   "version": "3.11.7"
  }
 },
 "nbformat": 4,
 "nbformat_minor": 5
}
